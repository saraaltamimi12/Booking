{
 "cells": [
  {
   "cell_type": "markdown",
   "id": "48d3dfd0",
   "metadata": {},
   "source": [
    "<img src=\"booking.png\" alt=\"Girl in cycyling\" width=\"300\" height=\"600\">"
   ]
  },
  {
   "cell_type": "markdown",
   "id": "c00003bc",
   "metadata": {},
   "source": [
    "Appenddix\n",
    "-click on the link:\n",
    ">1. <a href=#Imports> Imports</a>\n",
    ">2. <a href=#Load> Load Data</a>\n",
    ">3. <a href=#Formating> Data Formating</a>\n",
    ">4. <a href=#valid> Validate Assumption(option If exist)</a>\n",
    ">5. <a href=#EDA1> Exploratory Date Analysis(Uni-varible) </a>\n",
    ">6. <a href=#EDA2> Exploratory Date Analysis(mulivarible-relationships)</a>\n",
    ">7. <a href=#ques> Questions& Insights</a>\n",
    ">8. <a href=#modB> Baseline Model</a>\n",
    ">9. <a href=#DP> Data prep & Experimentation</a>\n"
   ]
  },
  {
   "cell_type": "markdown",
   "id": "787a1961",
   "metadata": {},
   "source": [
    "### Company Background:\n",
    "\n",
    "Reservation is the arrangement you make when you book something like a hotel room, a table in a restaurant, a theater seat, or a place on public transportation.\n",
    "Booking.com\n",
    "Specialized in booking accommodation. Booking.com is available in 43 languages and offers over 28 million reported accommodation listings, including over 6.2 million homes, apartments and other unique places to stay. Wherever you want and whatever you want to do, Booking.com makes it easy and supports you with 24/7 customer support.\n",
    "\n",
    "\n",
    "### MOTIVATIONS:\n",
    "To create a model to predict the future outcome of a new hotel booking price based on features (word rate, rate, dimension)\n",
    "\n",
    "\n",
    "\n",
    "\n",
    "### DESCRIBE DATA:\n",
    "\n",
    "Collecting data from the internet \"https://www.booking.com/\"\n",
    "\n",
    "I have 5 column and 146 rows.\n",
    "\n",
    "hotel_Name : the name of the hotel.\n",
    "price : Booking price\n",
    "rate : the rate of the hotel  \n",
    "distant: distant of the hotel to alhram\n",
    "reviews: the reviews of the hotel  \n",
    "\n",
    "price :I would expect as a target\n",
    "Features :reviews ,rate and distant\n",
    "\n",
    "\n",
    "\n",
    "\n",
    "\n"
   ]
  },
  {
   "cell_type": "markdown",
   "id": "30b0777c",
   "metadata": {},
   "source": [
    "## <a name=#Imports style=\" font-size:150%;\"> Helper Functions:</a>"
   ]
  },
  {
   "cell_type": "code",
   "execution_count": 1,
   "id": "b2330966",
   "metadata": {},
   "outputs": [],
   "source": [
    "def print_nas(df,cutoff):\n",
    "    size=len(df)\n",
    "    drop_col_list=[]\n",
    "    \n",
    "    for col in df.columns.to_list():\n",
    "        num_nas=sum(df[col].isna())\n",
    "        na_perc=round((num_nas/size)*100.00,2)\n",
    "        print(col,\":\",num_nas,\",\",na_perc,\"%\")\n",
    "        if na_perc>=cutoff:\n",
    "            drop_col_list.append(col)\n",
    "    visual_NA(df,True)\n",
    "    return  drop_col_list\n",
    "\n",
    "\n",
    "def visual_NA(dfina,col:bool):\n",
    "    len_dfina=len(dfina)\n",
    "    \n",
    "    \n",
    "    if col is True :\n",
    "        (dfina.isna().sum()/len_dfina*100.00).hist()\n",
    "        plt.title(\"Frequency for NAs in row\")\n",
    "        plt.xlabel(\"Percentage for NAs\")\n",
    "        plt.ylabel(\"Frequency \")\n",
    "                \n",
    "def dealing_out_of_outliers(col):\n",
    "    Q3 = np.percentile(col, 75)\n",
    "    Q1 = np.percentile(col, 25)\n",
    "    IQR = Q3 - Q1\n",
    "    lower = Q1-1.5*IQR\n",
    "    upper = Q3+1.5*IQR\n",
    "    outlier=[]\n",
    "    for x in col:\n",
    "        if ((x > upper) ^(x < lower)):\n",
    "            outlier.append(x)\n",
    "    print(\"out in the dataset is\",outlier)\n",
    "    col.plot(kind = 'box')\n",
    "\n",
    "\n",
    "    \n",
    "    \n",
    "def infolimt(col):\n",
    "    Q3 = np.percentile(col, 75)\n",
    "    Q1 = np.percentile(col, 25)\n",
    "    IQR = Q3 - Q1\n",
    "    lower = (Q1-1.5)*IQR\n",
    "    upper = (Q3+1.5)*IQR\n",
    "    print(\"Interquartile range of the cnt is:\",IQR,\"and the upper lmit is \",upper,\"and the lower lmit is\",lower)\n",
    "\n",
    "def split_and_validate(X, y):\n",
    "    '''\n",
    "    For a set of features and target X, y, perform a 80/20 train/val split, \n",
    "    fit and validate a linear regression model, and report results\n",
    "    '''\n",
    "    \n",
    "    # perform train/val split\n",
    "    X_train, X_val, y_train, y_val = \\\n",
    "        train_test_split(X, y, test_size=0.2, random_state=42)\n",
    "    \n",
    "    # fit linear regression to training data\n",
    "    lr_model = LinearRegression()\n",
    "    lr_model.fit(X_train, y_train)\n",
    "    \n",
    "    # score fit model on validation data\n",
    "    val_score = lr_model.score(X_val, y_val)\n",
    "    \n",
    "    # report results\n",
    "    print('\\nValidation R^2 score was:', val_score)\n",
    "    print('Feature coefficient results: \\n')\n",
    "    for feature, coef in zip(X.columns, lr_model.coef_):\n",
    "        print(feature, ':', f'{coef:.2f}') \n"
   ]
  },
  {
   "cell_type": "markdown",
   "id": "a976fcf4",
   "metadata": {},
   "source": [
    "## <a name=#Imports style=\" font-size:150%;\"> Libraries Imports </a>"
   ]
  },
  {
   "cell_type": "code",
   "execution_count": 2,
   "id": "d3c4d6ce",
   "metadata": {},
   "outputs": [
    {
     "name": "stdout",
     "output_type": "stream",
     "text": [
      "Importing ......Populating the interactive namespace from numpy and matplotlib\n",
      "[Done]\n"
     ]
    }
   ],
   "source": [
    "print(\"Importing ......\",end=\"\",flush=True)\n",
    "import numpy as np # linear algebra\n",
    "import pandas as pd # data processing, CSV file I/O (e.g. pd.read_csv)\n",
    "import matplotlib.pyplot as plt\n",
    "from matplotlib.colors import ListedColormap\n",
    "from pandas_profiling import ProfileReport\n",
    "import seaborn as sns\n",
    "sns.set()\n",
    "from sklearn.pipeline import Pipeline\n",
    "import math as m\n",
    "from sklearn.model_selection import GridSearchCV\n",
    "from sklearn.preprocessing import StandardScaler\n",
    "%matplotlib inline\n",
    "%pylab inline\n",
    "%config InlineBackend.figure_formats = ['retina']\n",
    "import sys \n",
    "import os\n",
    "from sklearn.metrics import mean_squared_error, r2_score\n",
    "from sklearn.linear_model import LinearRegression  \n",
    "from sklearn.model_selection import train_test_split\n",
    "from sklearn.linear_model import LinearRegression, Lasso, LassoCV, Ridge, RidgeCV\n",
    "from sklearn.metrics import r2_score\n",
    "import warnings\n",
    "warnings.filterwarnings('ignore')\n",
    "import statsmodels.api as sm\n",
    "from sklearn.model_selection import train_test_split\n",
    "import sklearn.neural_network as nn\n",
    "from bs4 import BeautifulSoup\n",
    "from sklearn.model_selection import train_test_split\n",
    "from sklearn.linear_model import LinearRegression, Lasso, LassoCV, Ridge, RidgeCV\n",
    "from sklearn.metrics import r2_score\n",
    "import requests\n",
    "#supper warnings\n",
    "import warnings\n",
    "warnings.filterwarnings('ignore')\n",
    "print(\"[Done]\")"
   ]
  },
  {
   "cell_type": "markdown",
   "id": "1f443559",
   "metadata": {},
   "source": [
    "## <a name=#Load> Load Data </a>"
   ]
  },
  {
   "cell_type": "code",
   "execution_count": 3,
   "id": "2313743b",
   "metadata": {},
   "outputs": [],
   "source": [
    "with open('booking1.html') as page:\n",
    "    Booking_html = page.read()\n",
    "soup1 = BeautifulSoup(Booking_html, 'lxml')"
   ]
  },
  {
   "cell_type": "code",
   "execution_count": 4,
   "id": "4f46a7c4",
   "metadata": {},
   "outputs": [],
   "source": [
    "with open('booking2.html') as page:\n",
    "    Booking_html = page.read()\n",
    "soup2 = BeautifulSoup(Booking_html, 'lxml')"
   ]
  },
  {
   "cell_type": "code",
   "execution_count": 5,
   "id": "fa873585",
   "metadata": {},
   "outputs": [],
   "source": [
    "with open('booking3.html') as page:\n",
    "    Booking_html = page.read()\n",
    "soup3 = BeautifulSoup(Booking_html, 'lxml')"
   ]
  },
  {
   "cell_type": "code",
   "execution_count": 6,
   "id": "59be3dd5",
   "metadata": {},
   "outputs": [],
   "source": [
    "with open('booking4.html') as page:\n",
    "    Booking_html = page.read()\n",
    "soup4 = BeautifulSoup(Booking_html, 'lxml')"
   ]
  },
  {
   "cell_type": "code",
   "execution_count": 7,
   "id": "23c64360",
   "metadata": {},
   "outputs": [],
   "source": [
    "with open('booking5.html') as page:\n",
    "    Booking_html = page.read()\n",
    "soup5 = BeautifulSoup(Booking_html, 'lxml')"
   ]
  },
  {
   "cell_type": "code",
   "execution_count": 8,
   "id": "65561476",
   "metadata": {},
   "outputs": [],
   "source": [
    "with open('booking6.html') as page:\n",
    "    Booking_html = page.read()\n",
    "soup6 = BeautifulSoup(Booking_html, 'lxml')"
   ]
  },
  {
   "cell_type": "code",
   "execution_count": 9,
   "id": "1aaa9d92",
   "metadata": {},
   "outputs": [],
   "source": [
    "hotel_Name=[]\n",
    "price=[]      \n",
    "rating=[]   \n",
    "distant=[]\n",
    "priceDiscount=[]"
   ]
  },
  {
   "cell_type": "code",
   "execution_count": 10,
   "id": "ed1e2f3f",
   "metadata": {},
   "outputs": [],
   "source": [
    "for block in soup1.select('div[data-testid=\"property-card\"]'):\n",
    "    hotel_Name.append(block.select('div[data-testid=\"title\"]')[0].text)\n",
    "    price.append(block.select('div[data-testid=\"price-and-discounted-price\"]')[0].text)\n",
    "    distant.append(block.select('span[data-testid=\"distance\"]')[0].text)\n",
    "    rating.append(block.select('div[data-testid=\"review-score\"]')[0].text)\n",
    "    priceDiscount.append(block.select('div[data-testid=\"price-and-discounted-price\"]')[0].text)"
   ]
  },
  {
   "cell_type": "code",
   "execution_count": 11,
   "id": "f817f7a3",
   "metadata": {},
   "outputs": [],
   "source": [
    "for block in soup2.select('div[data-testid=\"property-card\"]'):\n",
    "    hotel_Name.append(block.select('div[data-testid=\"title\"]')[0].text)\n",
    "    price.append(block.select('div[data-testid=\"price-and-discounted-price\"]')[0].text)\n",
    "    distant.append(block.select('span[data-testid=\"distance\"]')[0].text)\n",
    "    rating.append(block.select('div[data-testid=\"review-score\"]')[0].text)\n",
    "    priceDiscount.append(block.select('div[data-testid=\"price-and-discounted-price\"]')[0].text)"
   ]
  },
  {
   "cell_type": "code",
   "execution_count": 12,
   "id": "aec70533",
   "metadata": {},
   "outputs": [],
   "source": [
    "for block in soup3.select('div[data-testid=\"property-card\"]'):\n",
    "    hotel_Name.append(block.select('div[data-testid=\"title\"]')[0].text)\n",
    "    price.append(block.select('div[data-testid=\"price-and-discounted-price\"]')[0].text)\n",
    "    distant.append(block.select('span[data-testid=\"distance\"]')[0].text)\n",
    "    rating.append(block.select('div[data-testid=\"review-score\"]')[0].text)\n",
    "    priceDiscount.append(block.select('div[data-testid=\"price-and-discounted-price\"]')[0].text)"
   ]
  },
  {
   "cell_type": "code",
   "execution_count": 13,
   "id": "05f0ad7a",
   "metadata": {},
   "outputs": [],
   "source": [
    "for block in soup4.select('div[data-testid=\"property-card\"]'):\n",
    "    hotel_Name.append(block.select('div[data-testid=\"title\"]')[0].text)\n",
    "    price.append(block.select('div[data-testid=\"price-and-discounted-price\"]')[0].text)\n",
    "    distant.append(block.select('span[data-testid=\"distance\"]')[0].text)\n",
    "    rating.append(soup4.select('div[data-testid=\"review-score\"]')[0].text)\n",
    "    priceDiscount.append(block.select('div[data-testid=\"price-and-discounted-price\"]')[0].text)"
   ]
  },
  {
   "cell_type": "code",
   "execution_count": 14,
   "id": "7296bf6d",
   "metadata": {},
   "outputs": [],
   "source": [
    "for block in soup5.select('div[data-testid=\"property-card\"]'):\n",
    "    hotel_Name.append(block.select('div[data-testid=\"title\"]')[0].text)\n",
    "    price.append(block.select('div[data-testid=\"price-and-discounted-price\"]')[0].text)\n",
    "    distant.append(block.select('span[data-testid=\"distance\"]')[0].text)\n",
    "    rating.append(soup5.select('div[data-testid=\"review-score\"]')[0].text)\n",
    "    priceDiscount.append(block.select('div[data-testid=\"price-and-discounted-price\"]')[0].text)"
   ]
  },
  {
   "cell_type": "code",
   "execution_count": 15,
   "id": "e0e56c2a",
   "metadata": {},
   "outputs": [],
   "source": [
    "for block in soup6.select('div[data-testid=\"property-card\"]'):\n",
    "    hotel_Name.append(block.select('div[data-testid=\"title\"]')[0].text)\n",
    "    price.append(block.select('div[data-testid=\"price-and-discounted-price\"]')[0].text)\n",
    "    distant.append(block.select('span[data-testid=\"distance\"]')[0].text)\n",
    "    rating.append(soup6.select('div[data-testid=\"review-score\"]')[0].text)\n",
    "    priceDiscount.append(block.select('div[data-testid=\"price-and-discounted-price\"]')[0].text)"
   ]
  },
  {
   "cell_type": "code",
   "execution_count": 16,
   "id": "4c209e56",
   "metadata": {},
   "outputs": [],
   "source": [
    "dictionary ={\n",
    "    \"hotel_Name\":hotel_Name,\n",
    "    \"price\":price,\n",
    "    \"Rate\":rating,\n",
    "    \"distant\":distant,\n",
    "    \"discount\": priceDiscount}"
   ]
  },
  {
   "cell_type": "code",
   "execution_count": 17,
   "id": "02a6e482",
   "metadata": {},
   "outputs": [],
   "source": [
    "df_booking=pd.DataFrame(dict([ (k,pd.Series(v)) for k,v in dictionary.items() ]))"
   ]
  },
  {
   "cell_type": "code",
   "execution_count": 18,
   "id": "609e18e5",
   "metadata": {},
   "outputs": [
    {
     "data": {
      "text/html": [
       "<div>\n",
       "<style scoped>\n",
       "    .dataframe tbody tr th:only-of-type {\n",
       "        vertical-align: middle;\n",
       "    }\n",
       "\n",
       "    .dataframe tbody tr th {\n",
       "        vertical-align: top;\n",
       "    }\n",
       "\n",
       "    .dataframe thead th {\n",
       "        text-align: right;\n",
       "    }\n",
       "</style>\n",
       "<table border=\"1\" class=\"dataframe\">\n",
       "  <thead>\n",
       "    <tr style=\"text-align: right;\">\n",
       "      <th></th>\n",
       "      <th>hotel_Name</th>\n",
       "      <th>price</th>\n",
       "      <th>Rate</th>\n",
       "      <th>distant</th>\n",
       "      <th>discount</th>\n",
       "    </tr>\n",
       "  </thead>\n",
       "  <tbody>\n",
       "    <tr>\n",
       "      <th>0</th>\n",
       "      <td>Le Meridien Makkah</td>\n",
       "      <td>SAR 468</td>\n",
       "      <td>7.7Good5,059 reviews</td>\n",
       "      <td>0.4 km from centre</td>\n",
       "      <td>SAR 468</td>\n",
       "    </tr>\n",
       "    <tr>\n",
       "      <th>1</th>\n",
       "      <td>Violet Al Shisha Hotel</td>\n",
       "      <td>SAR 290SAR 119</td>\n",
       "      <td>8.3Very good5,844 reviews</td>\n",
       "      <td>2.8 km from centre</td>\n",
       "      <td>SAR 290SAR 119</td>\n",
       "    </tr>\n",
       "    <tr>\n",
       "      <th>2</th>\n",
       "      <td>Makkah Towers</td>\n",
       "      <td>SAR 342SAR 325</td>\n",
       "      <td>8.0Very good6,425 reviews</td>\n",
       "      <td>0.3 km from centre</td>\n",
       "      <td>SAR 342SAR 325</td>\n",
       "    </tr>\n",
       "    <tr>\n",
       "      <th>3</th>\n",
       "      <td>Makkah Clock Royal Tower, A Fairmont Hotel</td>\n",
       "      <td>SAR 441</td>\n",
       "      <td>8.2Very good20,064 reviews</td>\n",
       "      <td>0.3 km from centre</td>\n",
       "      <td>SAR 441</td>\n",
       "    </tr>\n",
       "    <tr>\n",
       "      <th>4</th>\n",
       "      <td>Jabal Omar Hyatt Regency Makkah</td>\n",
       "      <td>SAR 400</td>\n",
       "      <td>8.4Very good20,014 reviews</td>\n",
       "      <td>0.5 km from centre</td>\n",
       "      <td>SAR 400</td>\n",
       "    </tr>\n",
       "    <tr>\n",
       "      <th>...</th>\n",
       "      <td>...</td>\n",
       "      <td>...</td>\n",
       "      <td>...</td>\n",
       "      <td>...</td>\n",
       "      <td>...</td>\n",
       "    </tr>\n",
       "    <tr>\n",
       "      <th>141</th>\n",
       "      <td>جوهرة الاهدل</td>\n",
       "      <td>SAR 90</td>\n",
       "      <td>7.7Good5,059 reviews</td>\n",
       "      <td>4.4 km from centre</td>\n",
       "      <td>SAR 90</td>\n",
       "    </tr>\n",
       "    <tr>\n",
       "      <th>142</th>\n",
       "      <td>Nice Suites &amp; Hotels</td>\n",
       "      <td>SAR 256</td>\n",
       "      <td>7.7Good5,059 reviews</td>\n",
       "      <td>2.4 km from centre</td>\n",
       "      <td>SAR 256</td>\n",
       "    </tr>\n",
       "    <tr>\n",
       "      <th>143</th>\n",
       "      <td>سدير كرم</td>\n",
       "      <td>SAR 250</td>\n",
       "      <td>7.7Good5,059 reviews</td>\n",
       "      <td>5.7 km from centre</td>\n",
       "      <td>SAR 250</td>\n",
       "    </tr>\n",
       "    <tr>\n",
       "      <th>144</th>\n",
       "      <td>المنزل</td>\n",
       "      <td>SAR 1,000</td>\n",
       "      <td>7.7Good5,059 reviews</td>\n",
       "      <td>21.1 km from centre</td>\n",
       "      <td>SAR 1,000</td>\n",
       "    </tr>\n",
       "    <tr>\n",
       "      <th>145</th>\n",
       "      <td>رواحل الهدى فجر البديع 1 سابقًا</td>\n",
       "      <td>SAR 240</td>\n",
       "      <td>7.7Good5,059 reviews</td>\n",
       "      <td>1.1 km from centre</td>\n",
       "      <td>SAR 240</td>\n",
       "    </tr>\n",
       "  </tbody>\n",
       "</table>\n",
       "<p>146 rows × 5 columns</p>\n",
       "</div>"
      ],
      "text/plain": [
       "                                     hotel_Name           price  \\\n",
       "0                            Le Meridien Makkah         SAR 468   \n",
       "1                        Violet Al Shisha Hotel  SAR 290SAR 119   \n",
       "2                                 Makkah Towers  SAR 342SAR 325   \n",
       "3    Makkah Clock Royal Tower, A Fairmont Hotel         SAR 441   \n",
       "4               Jabal Omar Hyatt Regency Makkah         SAR 400   \n",
       "..                                          ...             ...   \n",
       "141                                جوهرة الاهدل          SAR 90   \n",
       "142                        Nice Suites & Hotels         SAR 256   \n",
       "143                                    سدير كرم         SAR 250   \n",
       "144                                      المنزل       SAR 1,000   \n",
       "145             رواحل الهدى فجر البديع 1 سابقًا         SAR 240   \n",
       "\n",
       "                           Rate              distant        discount  \n",
       "0          7.7Good5,059 reviews   0.4 km from centre         SAR 468  \n",
       "1     8.3Very good5,844 reviews   2.8 km from centre  SAR 290SAR 119  \n",
       "2     8.0Very good6,425 reviews   0.3 km from centre  SAR 342SAR 325  \n",
       "3    8.2Very good20,064 reviews   0.3 km from centre         SAR 441  \n",
       "4    8.4Very good20,014 reviews   0.5 km from centre         SAR 400  \n",
       "..                          ...                  ...             ...  \n",
       "141        7.7Good5,059 reviews   4.4 km from centre          SAR 90  \n",
       "142        7.7Good5,059 reviews   2.4 km from centre         SAR 256  \n",
       "143        7.7Good5,059 reviews   5.7 km from centre         SAR 250  \n",
       "144        7.7Good5,059 reviews  21.1 km from centre       SAR 1,000  \n",
       "145        7.7Good5,059 reviews   1.1 km from centre         SAR 240  \n",
       "\n",
       "[146 rows x 5 columns]"
      ]
     },
     "execution_count": 18,
     "metadata": {},
     "output_type": "execute_result"
    }
   ],
   "source": [
    "df_booking"
   ]
  },
  {
   "cell_type": "code",
   "execution_count": 19,
   "id": "2bd269ca",
   "metadata": {},
   "outputs": [],
   "source": [
    "df_booking.to_csv(\"df_Booking.csv\")"
   ]
  },
  {
   "cell_type": "code",
   "execution_count": 20,
   "id": "1893374d",
   "metadata": {},
   "outputs": [],
   "source": [
    "df_Booking = pd.read_csv(\"df_Booking.csv\")"
   ]
  },
  {
   "cell_type": "code",
   "execution_count": 21,
   "id": "88059b9b",
   "metadata": {},
   "outputs": [
    {
     "data": {
      "text/plain": [
       "(146, 6)"
      ]
     },
     "execution_count": 21,
     "metadata": {},
     "output_type": "execute_result"
    }
   ],
   "source": [
    "df_Booking.shape"
   ]
  },
  {
   "cell_type": "code",
   "execution_count": 22,
   "id": "15324792",
   "metadata": {},
   "outputs": [
    {
     "name": "stdout",
     "output_type": "stream",
     "text": [
      "Number of missing values in the data 0\n"
     ]
    }
   ],
   "source": [
    "print(\"Number of missing values in the data\", df_Booking.isnull().sum().sum())"
   ]
  },
  {
   "cell_type": "markdown",
   "id": "8d0e51ef",
   "metadata": {},
   "source": [
    "## <a name=#Formating> Data Formating</a>"
   ]
  },
  {
   "cell_type": "code",
   "execution_count": 23,
   "id": "d1e68cc7",
   "metadata": {},
   "outputs": [
    {
     "data": {
      "text/plain": [
       "Unnamed: 0     int64\n",
       "hotel_Name    object\n",
       "price         object\n",
       "Rate          object\n",
       "distant       object\n",
       "discount      object\n",
       "dtype: object"
      ]
     },
     "execution_count": 23,
     "metadata": {},
     "output_type": "execute_result"
    }
   ],
   "source": [
    "df_Booking.dtypes"
   ]
  },
  {
   "cell_type": "code",
   "execution_count": 24,
   "id": "6bbd4d66",
   "metadata": {},
   "outputs": [],
   "source": [
    "df_Booking['Price'] =df_Booking[\"price\"].str.replace(\"SAR\", \"\").str.strip()\n"
   ]
  },
  {
   "cell_type": "code",
   "execution_count": 25,
   "id": "3f52680c",
   "metadata": {},
   "outputs": [],
   "source": [
    "df_Booking['Price'] = df_Booking.Price.str.split().str[0]"
   ]
  },
  {
   "cell_type": "code",
   "execution_count": 26,
   "id": "bf34f131",
   "metadata": {},
   "outputs": [],
   "source": [
    "df_Booking['discount'] =df_Booking[\"price\"].str.replace(\"SAR\", \"\").str.strip()"
   ]
  },
  {
   "cell_type": "code",
   "execution_count": 27,
   "id": "3a4feef9",
   "metadata": {},
   "outputs": [],
   "source": [
    "df_Booking['discount'] = df_Booking.Price.str.split().str[0]"
   ]
  },
  {
   "cell_type": "code",
   "execution_count": 28,
   "id": "7a01e443",
   "metadata": {},
   "outputs": [],
   "source": [
    "df_Booking['distant'] =df_Booking[\"distant\"].str.replace(\"km from centre\", \"\").str.strip()"
   ]
  },
  {
   "cell_type": "code",
   "execution_count": 29,
   "id": "e3de9b37",
   "metadata": {},
   "outputs": [],
   "source": [
    "df_Booking['distant']=pd.to_numeric(df_Booking['distant'])"
   ]
  },
  {
   "cell_type": "code",
   "execution_count": 30,
   "id": "def0835a",
   "metadata": {},
   "outputs": [],
   "source": [
    "df_Booking['Price'] =df_Booking[\"Price\"].str.replace(\",\", \"\").str.strip()"
   ]
  },
  {
   "cell_type": "code",
   "execution_count": 31,
   "id": "cf8871ae",
   "metadata": {},
   "outputs": [],
   "source": [
    "df_Booking['Price']=pd.to_numeric(df_Booking['Price'])"
   ]
  },
  {
   "cell_type": "code",
   "execution_count": 32,
   "id": "3ce45f04",
   "metadata": {},
   "outputs": [],
   "source": [
    "df_Booking['discount'] =df_Booking[\"discount\"].str.replace(\",\", \"\").str.strip()"
   ]
  },
  {
   "cell_type": "code",
   "execution_count": 33,
   "id": "5cf1c05e",
   "metadata": {},
   "outputs": [],
   "source": [
    "df_Booking['discount']=pd.to_numeric(df_Booking['discount'])"
   ]
  },
  {
   "cell_type": "code",
   "execution_count": 34,
   "id": "5f87c66b",
   "metadata": {},
   "outputs": [],
   "source": [
    "R = df_Booking[\"Rate\"].str.split(\"d\", n = 1, expand = True)"
   ]
  },
  {
   "cell_type": "code",
   "execution_count": 35,
   "id": "32a39039",
   "metadata": {},
   "outputs": [],
   "source": [
    "df_Booking[\"reviews\"]=R[1]"
   ]
  },
  {
   "cell_type": "code",
   "execution_count": 36,
   "id": "5dda0288",
   "metadata": {},
   "outputs": [],
   "source": [
    "df_Booking[\"reviews\"]=df_Booking[\"reviews\"].str.replace(\" reviews\", \"\").str.strip()"
   ]
  },
  {
   "cell_type": "code",
   "execution_count": 37,
   "id": "97d65ea1",
   "metadata": {},
   "outputs": [],
   "source": [
    "df_Booking['reviews'] =df_Booking[\"reviews\"].str.replace(\",\", \"\").str.strip()"
   ]
  },
  {
   "cell_type": "code",
   "execution_count": 38,
   "id": "e3a9de9e",
   "metadata": {},
   "outputs": [],
   "source": [
    "df_Booking['reviews']=pd.to_numeric(df_Booking['reviews'])"
   ]
  },
  {
   "cell_type": "code",
   "execution_count": 39,
   "id": "1269c049",
   "metadata": {},
   "outputs": [],
   "source": [
    "RR= df_Booking[\"Rate\"].str.split(\"G\", n = 1, expand = True)"
   ]
  },
  {
   "cell_type": "code",
   "execution_count": 40,
   "id": "b28df6ce",
   "metadata": {},
   "outputs": [],
   "source": [
    "df_Booking[\"Rate_num\"]=RR[0]\n"
   ]
  },
  {
   "cell_type": "code",
   "execution_count": 41,
   "id": "9d0a2705",
   "metadata": {},
   "outputs": [],
   "source": [
    "RRR=df_Booking[\"Rate_num\"].str.split(\"V\", n = 1, expand = True)"
   ]
  },
  {
   "cell_type": "code",
   "execution_count": 42,
   "id": "12488e73",
   "metadata": {},
   "outputs": [],
   "source": [
    "df_Booking[\"Rate_num\"]=RRR[0]"
   ]
  },
  {
   "cell_type": "code",
   "execution_count": 43,
   "id": "f1ce3d2c",
   "metadata": {},
   "outputs": [],
   "source": [
    "df_Booking['Rate_num']=pd.to_numeric(df_Booking['Rate_num'],errors='coerce')\n"
   ]
  },
  {
   "cell_type": "code",
   "execution_count": 44,
   "id": "965a2a11",
   "metadata": {},
   "outputs": [],
   "source": [
    "df_Booking.drop('price',axis='columns', inplace=True)"
   ]
  },
  {
   "cell_type": "code",
   "execution_count": 45,
   "id": "8b613de3",
   "metadata": {},
   "outputs": [],
   "source": [
    "df_Booking.drop('discount',axis='columns', inplace=True)"
   ]
  },
  {
   "cell_type": "code",
   "execution_count": 46,
   "id": "c7848ed1",
   "metadata": {},
   "outputs": [
    {
     "data": {
      "text/plain": [
       "Unnamed: 0      int64\n",
       "hotel_Name     object\n",
       "Rate           object\n",
       "distant       float64\n",
       "Price           int64\n",
       "reviews       float64\n",
       "Rate_num      float64\n",
       "dtype: object"
      ]
     },
     "execution_count": 46,
     "metadata": {},
     "output_type": "execute_result"
    }
   ],
   "source": [
    "df_Booking.dtypes"
   ]
  },
  {
   "cell_type": "code",
   "execution_count": 47,
   "id": "f20a7928",
   "metadata": {},
   "outputs": [],
   "source": [
    "df_Booking.drop('Rate',axis='columns', inplace=True)"
   ]
  },
  {
   "cell_type": "code",
   "execution_count": 48,
   "id": "17fb5220",
   "metadata": {},
   "outputs": [],
   "source": [
    "df_Booking.drop([\"Unnamed: 0\"], axis=1, inplace=True)"
   ]
  },
  {
   "cell_type": "code",
   "execution_count": 49,
   "id": "5b9dad2b",
   "metadata": {},
   "outputs": [
    {
     "data": {
      "text/plain": [
       "(146, 5)"
      ]
     },
     "execution_count": 49,
     "metadata": {},
     "output_type": "execute_result"
    }
   ],
   "source": [
    "df_Booking.shape"
   ]
  },
  {
   "cell_type": "code",
   "execution_count": 50,
   "id": "12efcea9",
   "metadata": {},
   "outputs": [
    {
     "data": {
      "text/plain": [
       "730"
      ]
     },
     "execution_count": 50,
     "metadata": {},
     "output_type": "execute_result"
    }
   ],
   "source": [
    "df_Booking.size"
   ]
  },
  {
   "cell_type": "markdown",
   "id": "13fe1ba5",
   "metadata": {},
   "source": [
    "## <a name=#valid> Validate Assumption:</a>"
   ]
  },
  {
   "cell_type": "code",
   "execution_count": 51,
   "id": "83224600",
   "metadata": {},
   "outputs": [
    {
     "data": {
      "text/plain": [
       "5"
      ]
     },
     "execution_count": 51,
     "metadata": {},
     "output_type": "execute_result"
    }
   ],
   "source": [
    "df_Booking.duplicated().sum()"
   ]
  },
  {
   "cell_type": "code",
   "execution_count": 52,
   "id": "da2ee3fa",
   "metadata": {},
   "outputs": [],
   "source": [
    "df_Booking=df_Booking.drop_duplicates()"
   ]
  },
  {
   "cell_type": "code",
   "execution_count": 53,
   "id": "c1e20dd3",
   "metadata": {},
   "outputs": [
    {
     "data": {
      "text/plain": [
       "705"
      ]
     },
     "execution_count": 53,
     "metadata": {},
     "output_type": "execute_result"
    }
   ],
   "source": [
    "df_Booking.size"
   ]
  },
  {
   "cell_type": "code",
   "execution_count": 54,
   "id": "86bb2552",
   "metadata": {},
   "outputs": [
    {
     "data": {
      "text/html": [
       "<div>\n",
       "<style scoped>\n",
       "    .dataframe tbody tr th:only-of-type {\n",
       "        vertical-align: middle;\n",
       "    }\n",
       "\n",
       "    .dataframe tbody tr th {\n",
       "        vertical-align: top;\n",
       "    }\n",
       "\n",
       "    .dataframe thead th {\n",
       "        text-align: right;\n",
       "    }\n",
       "</style>\n",
       "<table border=\"1\" class=\"dataframe\">\n",
       "  <thead>\n",
       "    <tr style=\"text-align: right;\">\n",
       "      <th></th>\n",
       "      <th>hotel_Name</th>\n",
       "      <th>distant</th>\n",
       "      <th>Price</th>\n",
       "      <th>reviews</th>\n",
       "      <th>Rate_num</th>\n",
       "    </tr>\n",
       "  </thead>\n",
       "  <tbody>\n",
       "    <tr>\n",
       "      <th>0</th>\n",
       "      <td>False</td>\n",
       "      <td>False</td>\n",
       "      <td>False</td>\n",
       "      <td>False</td>\n",
       "      <td>False</td>\n",
       "    </tr>\n",
       "    <tr>\n",
       "      <th>1</th>\n",
       "      <td>False</td>\n",
       "      <td>False</td>\n",
       "      <td>False</td>\n",
       "      <td>False</td>\n",
       "      <td>False</td>\n",
       "    </tr>\n",
       "    <tr>\n",
       "      <th>2</th>\n",
       "      <td>False</td>\n",
       "      <td>False</td>\n",
       "      <td>False</td>\n",
       "      <td>False</td>\n",
       "      <td>False</td>\n",
       "    </tr>\n",
       "    <tr>\n",
       "      <th>3</th>\n",
       "      <td>False</td>\n",
       "      <td>False</td>\n",
       "      <td>False</td>\n",
       "      <td>False</td>\n",
       "      <td>False</td>\n",
       "    </tr>\n",
       "    <tr>\n",
       "      <th>4</th>\n",
       "      <td>False</td>\n",
       "      <td>False</td>\n",
       "      <td>False</td>\n",
       "      <td>False</td>\n",
       "      <td>False</td>\n",
       "    </tr>\n",
       "    <tr>\n",
       "      <th>...</th>\n",
       "      <td>...</td>\n",
       "      <td>...</td>\n",
       "      <td>...</td>\n",
       "      <td>...</td>\n",
       "      <td>...</td>\n",
       "    </tr>\n",
       "    <tr>\n",
       "      <th>141</th>\n",
       "      <td>False</td>\n",
       "      <td>False</td>\n",
       "      <td>False</td>\n",
       "      <td>False</td>\n",
       "      <td>False</td>\n",
       "    </tr>\n",
       "    <tr>\n",
       "      <th>142</th>\n",
       "      <td>False</td>\n",
       "      <td>False</td>\n",
       "      <td>False</td>\n",
       "      <td>False</td>\n",
       "      <td>False</td>\n",
       "    </tr>\n",
       "    <tr>\n",
       "      <th>143</th>\n",
       "      <td>False</td>\n",
       "      <td>False</td>\n",
       "      <td>False</td>\n",
       "      <td>False</td>\n",
       "      <td>False</td>\n",
       "    </tr>\n",
       "    <tr>\n",
       "      <th>144</th>\n",
       "      <td>False</td>\n",
       "      <td>False</td>\n",
       "      <td>False</td>\n",
       "      <td>False</td>\n",
       "      <td>False</td>\n",
       "    </tr>\n",
       "    <tr>\n",
       "      <th>145</th>\n",
       "      <td>False</td>\n",
       "      <td>False</td>\n",
       "      <td>False</td>\n",
       "      <td>False</td>\n",
       "      <td>False</td>\n",
       "    </tr>\n",
       "  </tbody>\n",
       "</table>\n",
       "<p>141 rows × 5 columns</p>\n",
       "</div>"
      ],
      "text/plain": [
       "     hotel_Name  distant  Price  reviews  Rate_num\n",
       "0         False    False  False    False     False\n",
       "1         False    False  False    False     False\n",
       "2         False    False  False    False     False\n",
       "3         False    False  False    False     False\n",
       "4         False    False  False    False     False\n",
       "..          ...      ...    ...      ...       ...\n",
       "141       False    False  False    False     False\n",
       "142       False    False  False    False     False\n",
       "143       False    False  False    False     False\n",
       "144       False    False  False    False     False\n",
       "145       False    False  False    False     False\n",
       "\n",
       "[141 rows x 5 columns]"
      ]
     },
     "execution_count": 54,
     "metadata": {},
     "output_type": "execute_result"
    }
   ],
   "source": [
    "df_Booking.isnull()"
   ]
  },
  {
   "cell_type": "code",
   "execution_count": 55,
   "id": "d0a0e78b",
   "metadata": {},
   "outputs": [
    {
     "data": {
      "text/plain": [
       "0.3     12\n",
       "4.0      7\n",
       "0.5      6\n",
       "0.8      5\n",
       "3.6      5\n",
       "        ..\n",
       "1.7      1\n",
       "21.1     1\n",
       "4.5      1\n",
       "4.4      1\n",
       "6.2      1\n",
       "Name: distant, Length: 62, dtype: int64"
      ]
     },
     "execution_count": 55,
     "metadata": {},
     "output_type": "execute_result"
    }
   ],
   "source": [
    "df_Booking[\"distant\"].value_counts()"
   ]
  },
  {
   "cell_type": "code",
   "execution_count": 56,
   "id": "b99aa1bf",
   "metadata": {},
   "outputs": [
    {
     "data": {
      "text/plain": [
       "62"
      ]
     },
     "execution_count": 56,
     "metadata": {},
     "output_type": "execute_result"
    }
   ],
   "source": [
    "df_Booking[\"distant\"].nunique()"
   ]
  },
  {
   "cell_type": "code",
   "execution_count": 57,
   "id": "58405b67",
   "metadata": {},
   "outputs": [
    {
     "name": "stdout",
     "output_type": "stream",
     "text": [
      "hotel_Name : 141 , more than 10\n",
      "distant : 62 , more than 10\n",
      "Price : 87 , more than 10\n",
      "reviews : 51 , more than 10\n",
      "Rate_num : 15 , more than 10\n"
     ]
    }
   ],
   "source": [
    "#to colcalate the nunique of each col\n",
    "for col in df_Booking.columns.to_list():\n",
    "    num_uniq= df_Booking[col].nunique()\n",
    "    if num_uniq <=10:\n",
    "        uniq_list=df_Booking[col].nunique()\n",
    "    else:\n",
    "         uniq_list=\"more than 10\"\n",
    "    print(col,\":\",num_uniq,\",\",uniq_list)"
   ]
  },
  {
   "cell_type": "markdown",
   "id": "dbf9ff6b",
   "metadata": {},
   "source": [
    "## <a name=#EDA1> Exploratory Date Analysis(Uni-varible): </a>"
   ]
  },
  {
   "cell_type": "code",
   "execution_count": 259,
   "id": "24277c69",
   "metadata": {},
   "outputs": [
    {
     "data": {
      "text/plain": [
       "[Text(0.5, 1.0, ' frequency value of Rate number')]"
      ]
     },
     "execution_count": 259,
     "metadata": {},
     "output_type": "execute_result"
    },
    {
     "data": {
      "image/png": "[encoded data removed]",
      "text/plain": [
       "<Figure size 432x288 with 1 Axes>"
      ]
     },
     "metadata": {
      "image/png": {
       "height": 281,
       "width": 389
      },
      "needs_background": "light"
     },
     "output_type": "display_data"
    }
   ],
   "source": [
    "\n",
    "sns.countplot(y=\"Rate_num\", data=df_Booking).set(title=' frequency value of Rate number')"
   ]
  },
  {
   "cell_type": "code",
   "execution_count": 58,
   "id": "7378a5d4",
   "metadata": {},
   "outputs": [
    {
     "data": {
      "text/plain": [
       "<AxesSubplot:ylabel='Rate_num'>"
      ]
     },
     "execution_count": 58,
     "metadata": {},
     "output_type": "execute_result"
    },
    {
     "data": {
      "image/png": "[encoded data removed]",
      "text/plain": [
       "<Figure size 432x288 with 1 Axes>"
      ]
     },
     "metadata": {
      "image/png": {
       "height": 231,
       "width": 389
      },
      "needs_background": "light"
     },
     "output_type": "display_data"
    }
   ],
   "source": [
    "#outliers of the Rate_num\n",
    "sns.boxplot(data=df_Booking,y=\"Rate_num\")"
   ]
  },
  {
   "cell_type": "code",
   "execution_count": 59,
   "id": "e3b8458a",
   "metadata": {},
   "outputs": [
    {
     "data": {
      "text/plain": [
       "<AxesSubplot:ylabel='distant'>"
      ]
     },
     "execution_count": 59,
     "metadata": {},
     "output_type": "execute_result"
    },
    {
     "data": {
      "image/png": "[encoded data removed]",
      "text/plain": [
       "<Figure size 432x288 with 1 Axes>"
      ]
     },
     "metadata": {
      "image/png": {
       "height": 231,
       "width": 386
      },
      "needs_background": "light"
     },
     "output_type": "display_data"
    }
   ],
   "source": [
    "#outliers of the distant\n",
    "sns.boxplot(data=df_Booking,y=\"distant\")"
   ]
  },
  {
   "cell_type": "code",
   "execution_count": 60,
   "id": "4a0a489d",
   "metadata": {},
   "outputs": [
    {
     "data": {
      "text/plain": [
       "<AxesSubplot:ylabel='Price'>"
      ]
     },
     "execution_count": 60,
     "metadata": {},
     "output_type": "execute_result"
    },
    {
     "data": {
      "image/png": "[encoded data removed]",
      "text/plain": [
       "<Figure size 432x288 with 1 Axes>"
      ]
     },
     "metadata": {
      "image/png": {
       "height": 234,
       "width": 398
      },
      "needs_background": "light"
     },
     "output_type": "display_data"
    }
   ],
   "source": [
    "#outliers of the Price\n",
    "sns.boxplot(data=df_Booking,y=\"Price\")"
   ]
  },
  {
   "cell_type": "code",
   "execution_count": 61,
   "id": "3934e4a5",
   "metadata": {},
   "outputs": [
    {
     "data": {
      "text/plain": [
       "<AxesSubplot:ylabel='reviews'>"
      ]
     },
     "execution_count": 61,
     "metadata": {},
     "output_type": "execute_result"
    },
    {
     "data": {
      "image/png": "[encoded data removed]",
      "text/plain": [
       "<Figure size 432x288 with 1 Axes>"
      ]
     },
     "metadata": {
      "image/png": {
       "height": 231,
       "width": 404
      },
      "needs_background": "light"
     },
     "output_type": "display_data"
    }
   ],
   "source": [
    "#outliers of the reviews\n",
    "sns.boxplot(data=df_Booking,y=\"reviews\")"
   ]
  },
  {
   "cell_type": "code",
   "execution_count": 62,
   "id": "4bd9495d",
   "metadata": {},
   "outputs": [
    {
     "name": "stdout",
     "output_type": "stream",
     "text": [
      "Interquartile range of the cnt is: 150.0 and the upper lmit is  37725.0 and the lower lmit is 14775.0\n"
     ]
    }
   ],
   "source": [
    "infolimt(df_Booking.Price)"
   ]
  },
  {
   "cell_type": "markdown",
   "id": "5de83072",
   "metadata": {},
   "source": [
    "## <a name=#EDA2> Exploratory Date Analysis(mulivarible-relationships):</a>"
   ]
  },
  {
   "cell_type": "code",
   "execution_count": 63,
   "id": "8cd5a03d",
   "metadata": {},
   "outputs": [
    {
     "data": {
      "text/plain": [
       "<Figure size 2160x1440 with 0 Axes>"
      ]
     },
     "metadata": {},
     "output_type": "display_data"
    },
    {
     "data": {
      "image/png": "[encoded data removed]",
      "text/plain": [
       "<Figure size 720x720 with 20 Axes>"
      ]
     },
     "metadata": {
      "image/png": {
       "height": 711,
       "width": 711
      },
      "needs_background": "light"
     },
     "output_type": "display_data"
    }
   ],
   "source": [
    "#let's plot everything in groups of two\n",
    "plt.figure(figsize=(30,20))\n",
    "sns.pairplot(df_Booking[['hotel_Name', 'distant', 'Price', 'reviews', 'Rate_num']])\n",
    "plt.show()"
   ]
  },
  {
   "cell_type": "code",
   "execution_count": 266,
   "id": "1572cb9b",
   "metadata": {},
   "outputs": [
    {
     "data": {
      "text/plain": [
       "<AxesSubplot:>"
      ]
     },
     "execution_count": 266,
     "metadata": {},
     "output_type": "execute_result"
    },
    {
     "data": {
      "image/png": "[encoded data removed]",
      "text/plain": [
       "<Figure size 1600x960 with 2 Axes>"
      ]
     },
     "metadata": {
      "image/png": {
       "height": 809,
       "width": 1221
      },
      "needs_background": "light"
     },
     "output_type": "display_data"
    }
   ],
   "source": [
    "#to show all correlation betwan each columns\n",
    "\n",
    "plt.figure(figsize=(10,6), dpi=160)\n",
    "sns.heatmap(df_Booking.corr(),annot=True,cmap=\"Blues\")"
   ]
  },
  {
   "cell_type": "code",
   "execution_count": 65,
   "id": "57e91a76",
   "metadata": {},
   "outputs": [
    {
     "data": {
      "text/plain": [
       "[Text(0.5, 1.0, 'distribution of the Rate_num')]"
      ]
     },
     "execution_count": 65,
     "metadata": {},
     "output_type": "execute_result"
    },
    {
     "data": {
      "image/png": "[encoded data removed]",
      "text/plain": [
       "<Figure size 432x288 with 1 Axes>"
      ]
     },
     "metadata": {
      "image/png": {
       "height": 281,
       "width": 386
      },
      "needs_background": "light"
     },
     "output_type": "display_data"
    }
   ],
   "source": [
    "#let's look at the distribution of the Rate_num \n",
    "sns.distplot(df_Booking['Rate_num'], label='Rate_num',color=\"#00BFFF\").set(title='distribution of the Rate_num')"
   ]
  },
  {
   "cell_type": "markdown",
   "id": "59ab0279",
   "metadata": {},
   "source": [
    "## <a name=#ques> Questions& Insights:</a>"
   ]
  },
  {
   "cell_type": "code",
   "execution_count": 66,
   "id": "1af45ac0",
   "metadata": {},
   "outputs": [
    {
     "data": {
      "text/html": [
       "<div>\n",
       "<style scoped>\n",
       "    .dataframe tbody tr th:only-of-type {\n",
       "        vertical-align: middle;\n",
       "    }\n",
       "\n",
       "    .dataframe tbody tr th {\n",
       "        vertical-align: top;\n",
       "    }\n",
       "\n",
       "    .dataframe thead th {\n",
       "        text-align: right;\n",
       "    }\n",
       "</style>\n",
       "<table border=\"1\" class=\"dataframe\">\n",
       "  <thead>\n",
       "    <tr style=\"text-align: right;\">\n",
       "      <th></th>\n",
       "      <th>hotel_Name</th>\n",
       "      <th>distant</th>\n",
       "      <th>Price</th>\n",
       "      <th>reviews</th>\n",
       "      <th>Rate_num</th>\n",
       "    </tr>\n",
       "  </thead>\n",
       "  <tbody>\n",
       "    <tr>\n",
       "      <th>2</th>\n",
       "      <td>Makkah Towers</td>\n",
       "      <td>0.3</td>\n",
       "      <td>342</td>\n",
       "      <td>6425.0</td>\n",
       "      <td>8.0</td>\n",
       "    </tr>\n",
       "    <tr>\n",
       "      <th>3</th>\n",
       "      <td>Makkah Clock Royal Tower, A Fairmont Hotel</td>\n",
       "      <td>0.3</td>\n",
       "      <td>441</td>\n",
       "      <td>20064.0</td>\n",
       "      <td>8.2</td>\n",
       "    </tr>\n",
       "    <tr>\n",
       "      <th>8</th>\n",
       "      <td>Pullman ZamZam Makkah</td>\n",
       "      <td>0.3</td>\n",
       "      <td>342</td>\n",
       "      <td>23188.0</td>\n",
       "      <td>7.2</td>\n",
       "    </tr>\n",
       "    <tr>\n",
       "      <th>10</th>\n",
       "      <td>Movenpick Makkah Hajar Tower</td>\n",
       "      <td>0.3</td>\n",
       "      <td>342</td>\n",
       "      <td>9730.0</td>\n",
       "      <td>8.1</td>\n",
       "    </tr>\n",
       "    <tr>\n",
       "      <th>13</th>\n",
       "      <td>Swissotel Al Maqam Makkah</td>\n",
       "      <td>0.3</td>\n",
       "      <td>369</td>\n",
       "      <td>22165.0</td>\n",
       "      <td>8.2</td>\n",
       "    </tr>\n",
       "    <tr>\n",
       "      <th>15</th>\n",
       "      <td>Retaj Al Bayt Suites</td>\n",
       "      <td>0.3</td>\n",
       "      <td>828</td>\n",
       "      <td>3603.0</td>\n",
       "      <td>7.7</td>\n",
       "    </tr>\n",
       "    <tr>\n",
       "      <th>17</th>\n",
       "      <td>Makkah Hotel</td>\n",
       "      <td>0.3</td>\n",
       "      <td>460</td>\n",
       "      <td>NaN</td>\n",
       "      <td>NaN</td>\n",
       "    </tr>\n",
       "    <tr>\n",
       "      <th>18</th>\n",
       "      <td>Al Ghufran Safwah Hotel Makkah</td>\n",
       "      <td>0.3</td>\n",
       "      <td>583</td>\n",
       "      <td>NaN</td>\n",
       "      <td>NaN</td>\n",
       "    </tr>\n",
       "    <tr>\n",
       "      <th>20</th>\n",
       "      <td>Al Marwa Rayhaan by Rotana - Makkah</td>\n",
       "      <td>0.3</td>\n",
       "      <td>352</td>\n",
       "      <td>8087.0</td>\n",
       "      <td>7.6</td>\n",
       "    </tr>\n",
       "    <tr>\n",
       "      <th>32</th>\n",
       "      <td>Al Safwah Royale Orchid Hotel</td>\n",
       "      <td>0.3</td>\n",
       "      <td>499</td>\n",
       "      <td>4503.0</td>\n",
       "      <td>7.3</td>\n",
       "    </tr>\n",
       "    <tr>\n",
       "      <th>40</th>\n",
       "      <td>Raffles Makkah Palace</td>\n",
       "      <td>0.3</td>\n",
       "      <td>828</td>\n",
       "      <td>NaN</td>\n",
       "      <td>NaN</td>\n",
       "    </tr>\n",
       "    <tr>\n",
       "      <th>65</th>\n",
       "      <td>Al Massa Hotel Makkah</td>\n",
       "      <td>0.3</td>\n",
       "      <td>450</td>\n",
       "      <td>NaN</td>\n",
       "      <td>NaN</td>\n",
       "    </tr>\n",
       "  </tbody>\n",
       "</table>\n",
       "</div>"
      ],
      "text/plain": [
       "                                    hotel_Name  distant  Price  reviews  \\\n",
       "2                                Makkah Towers      0.3    342   6425.0   \n",
       "3   Makkah Clock Royal Tower, A Fairmont Hotel      0.3    441  20064.0   \n",
       "8                        Pullman ZamZam Makkah      0.3    342  23188.0   \n",
       "10                Movenpick Makkah Hajar Tower      0.3    342   9730.0   \n",
       "13                   Swissotel Al Maqam Makkah      0.3    369  22165.0   \n",
       "15                        Retaj Al Bayt Suites      0.3    828   3603.0   \n",
       "17                                Makkah Hotel      0.3    460      NaN   \n",
       "18              Al Ghufran Safwah Hotel Makkah      0.3    583      NaN   \n",
       "20         Al Marwa Rayhaan by Rotana - Makkah      0.3    352   8087.0   \n",
       "32               Al Safwah Royale Orchid Hotel      0.3    499   4503.0   \n",
       "40                       Raffles Makkah Palace      0.3    828      NaN   \n",
       "65                       Al Massa Hotel Makkah      0.3    450      NaN   \n",
       "\n",
       "    Rate_num  \n",
       "2        8.0  \n",
       "3        8.2  \n",
       "8        7.2  \n",
       "10       8.1  \n",
       "13       8.2  \n",
       "15       7.7  \n",
       "17       NaN  \n",
       "18       NaN  \n",
       "20       7.6  \n",
       "32       7.3  \n",
       "40       NaN  \n",
       "65       NaN  "
      ]
     },
     "execution_count": 66,
     "metadata": {},
     "output_type": "execute_result"
    }
   ],
   "source": [
    "#find what the hotel_Name Closest to Haram \n",
    "df_Booking[df_Booking.distant==df_Booking[\"distant\"].min()]"
   ]
  },
  {
   "cell_type": "code",
   "execution_count": 67,
   "id": "e2f7c610",
   "metadata": {},
   "outputs": [
    {
     "data": {
      "text/html": [
       "<div>\n",
       "<style scoped>\n",
       "    .dataframe tbody tr th:only-of-type {\n",
       "        vertical-align: middle;\n",
       "    }\n",
       "\n",
       "    .dataframe tbody tr th {\n",
       "        vertical-align: top;\n",
       "    }\n",
       "\n",
       "    .dataframe thead th {\n",
       "        text-align: right;\n",
       "    }\n",
       "</style>\n",
       "<table border=\"1\" class=\"dataframe\">\n",
       "  <thead>\n",
       "    <tr style=\"text-align: right;\">\n",
       "      <th></th>\n",
       "      <th>hotel_Name</th>\n",
       "      <th>distant</th>\n",
       "      <th>Price</th>\n",
       "      <th>reviews</th>\n",
       "      <th>Rate_num</th>\n",
       "    </tr>\n",
       "  </thead>\n",
       "  <tbody>\n",
       "    <tr>\n",
       "      <th>27</th>\n",
       "      <td>Four Points by Sheraton Makkah Al Naseem</td>\n",
       "      <td>6.8</td>\n",
       "      <td>135</td>\n",
       "      <td>13391.0</td>\n",
       "      <td>8.5</td>\n",
       "    </tr>\n",
       "    <tr>\n",
       "      <th>28</th>\n",
       "      <td>Olayan Diamond Hotel - Al Maabda</td>\n",
       "      <td>2.5</td>\n",
       "      <td>110</td>\n",
       "      <td>1524.0</td>\n",
       "      <td>8.5</td>\n",
       "    </tr>\n",
       "    <tr>\n",
       "      <th>63</th>\n",
       "      <td>Violet Al Azizia Hotel</td>\n",
       "      <td>2.9</td>\n",
       "      <td>160</td>\n",
       "      <td>7463.0</td>\n",
       "      <td>8.5</td>\n",
       "    </tr>\n",
       "    <tr>\n",
       "      <th>67</th>\n",
       "      <td>M Hotel Al Dana Makkah by Millennium</td>\n",
       "      <td>3.2</td>\n",
       "      <td>123</td>\n",
       "      <td>2118.0</td>\n",
       "      <td>8.5</td>\n",
       "    </tr>\n",
       "    <tr>\n",
       "      <th>73</th>\n",
       "      <td>فندق ٢١ Hotel 21</td>\n",
       "      <td>5.8</td>\n",
       "      <td>130</td>\n",
       "      <td>427.0</td>\n",
       "      <td>8.5</td>\n",
       "    </tr>\n",
       "  </tbody>\n",
       "</table>\n",
       "</div>"
      ],
      "text/plain": [
       "                                  hotel_Name  distant  Price  reviews  \\\n",
       "27  Four Points by Sheraton Makkah Al Naseem      6.8    135  13391.0   \n",
       "28          Olayan Diamond Hotel - Al Maabda      2.5    110   1524.0   \n",
       "63                    Violet Al Azizia Hotel      2.9    160   7463.0   \n",
       "67      M Hotel Al Dana Makkah by Millennium      3.2    123   2118.0   \n",
       "73                          فندق ٢١ Hotel 21      5.8    130    427.0   \n",
       "\n",
       "    Rate_num  \n",
       "27       8.5  \n",
       "28       8.5  \n",
       "63       8.5  \n",
       "67       8.5  \n",
       "73       8.5  "
      ]
     },
     "execution_count": 67,
     "metadata": {},
     "output_type": "execute_result"
    }
   ],
   "source": [
    "#find what the hotel_Name when the Rate_num (highest value)\n",
    "df_Booking[df_Booking.Rate_num==df_Booking[\"Rate_num\"].max()]"
   ]
  },
  {
   "cell_type": "code",
   "execution_count": 68,
   "id": "4f89a064",
   "metadata": {},
   "outputs": [
    {
     "data": {
      "text/html": [
       "<div>\n",
       "<style scoped>\n",
       "    .dataframe tbody tr th:only-of-type {\n",
       "        vertical-align: middle;\n",
       "    }\n",
       "\n",
       "    .dataframe tbody tr th {\n",
       "        vertical-align: top;\n",
       "    }\n",
       "\n",
       "    .dataframe thead th {\n",
       "        text-align: right;\n",
       "    }\n",
       "</style>\n",
       "<table border=\"1\" class=\"dataframe\">\n",
       "  <thead>\n",
       "    <tr style=\"text-align: right;\">\n",
       "      <th></th>\n",
       "      <th>hotel_Name</th>\n",
       "      <th>distant</th>\n",
       "      <th>Price</th>\n",
       "      <th>reviews</th>\n",
       "      <th>Rate_num</th>\n",
       "    </tr>\n",
       "  </thead>\n",
       "  <tbody>\n",
       "    <tr>\n",
       "      <th>2</th>\n",
       "      <td>Makkah Towers</td>\n",
       "      <td>0.3</td>\n",
       "      <td>342</td>\n",
       "      <td>6425.0</td>\n",
       "      <td>8.0</td>\n",
       "    </tr>\n",
       "  </tbody>\n",
       "</table>\n",
       "</div>"
      ],
      "text/plain": [
       "      hotel_Name  distant  Price  reviews  Rate_num\n",
       "2  Makkah Towers      0.3    342   6425.0       8.0"
      ]
     },
     "execution_count": 68,
     "metadata": {},
     "output_type": "execute_result"
    }
   ],
   "source": [
    "df_Booking[(df_Booking.Rate_num==8.0)&(df_Booking.distant==0.3)]"
   ]
  },
  {
   "cell_type": "markdown",
   "id": "b6e99d22",
   "metadata": {},
   "source": [
    "## <a name=#modB> Baseline Model:</a>"
   ]
  },
  {
   "cell_type": "markdown",
   "id": "ffea9c9a",
   "metadata": {},
   "source": [
    "### Define the target and features:"
   ]
  },
  {
   "cell_type": "code",
   "execution_count": 217,
   "id": "db230bbc",
   "metadata": {},
   "outputs": [],
   "source": [
    "X=df_Booking.drop(\"Price\",axis=1)\n",
    "y=df_Booking[(\"Price\")]"
   ]
  },
  {
   "cell_type": "markdown",
   "id": "2df9d161",
   "metadata": {},
   "source": [
    "### Define train and test:"
   ]
  },
  {
   "cell_type": "code",
   "execution_count": 218,
   "id": "9ab523e4",
   "metadata": {},
   "outputs": [],
   "source": [
    "X_train_val, X_test, y_train_val, y_test = train_test_split(X, y, test_size=0.2,random_state=42)\n",
    "X_train, X_val, y_train, y_val = train_test_split(X_train_val, y_train_val, test_size=.25, random_state=42)"
   ]
  },
  {
   "cell_type": "markdown",
   "id": "a34c70d5",
   "metadata": {},
   "source": [
    "### numeric_X_train_val_test:"
   ]
  },
  {
   "cell_type": "code",
   "execution_count": 219,
   "id": "de7f8fa1",
   "metadata": {},
   "outputs": [],
   "source": [
    "X_train=X_train.select_dtypes(include=np.number)\n",
    "X_val=X_val.select_dtypes(include=np.number)\n",
    "X_test=X_test.select_dtypes(include=np.number)"
   ]
  },
  {
   "cell_type": "markdown",
   "id": "6f4b47ba",
   "metadata": {},
   "source": [
    "### BASELINE R2 :"
   ]
  },
  {
   "cell_type": "code",
   "execution_count": 220,
   "id": "30d20a81",
   "metadata": {},
   "outputs": [
    {
     "data": {
      "text/plain": [
       "0.13580390301708867"
      ]
     },
     "execution_count": 220,
     "metadata": {},
     "output_type": "execute_result"
    }
   ],
   "source": [
    "X_trainBL=X_train.fillna(0)\n",
    "lm=LinearRegression()\n",
    "lm.fit(X_trainBL,y_train)\n",
    "lm.score(X_trainBL,y_train)"
   ]
  },
  {
   "cell_type": "code",
   "execution_count": 221,
   "id": "fa8b5bf4",
   "metadata": {},
   "outputs": [
    {
     "data": {
      "text/plain": [
       "0.031317874051118744"
      ]
     },
     "execution_count": 221,
     "metadata": {},
     "output_type": "execute_result"
    }
   ],
   "source": [
    "X_valBL=X_val.fillna(0)\n",
    "lm.score(X_valBL,y_val)\n"
   ]
  },
  {
   "cell_type": "markdown",
   "id": "f1797078",
   "metadata": {},
   "source": [
    "## <a name=#DP> Data prep & Experimentation:</a>"
   ]
  },
  {
   "cell_type": "code",
   "execution_count": 222,
   "id": "d68fe358",
   "metadata": {},
   "outputs": [
    {
     "data": {
      "text/html": [
       "<div>\n",
       "<style scoped>\n",
       "    .dataframe tbody tr th:only-of-type {\n",
       "        vertical-align: middle;\n",
       "    }\n",
       "\n",
       "    .dataframe tbody tr th {\n",
       "        vertical-align: top;\n",
       "    }\n",
       "\n",
       "    .dataframe thead th {\n",
       "        text-align: right;\n",
       "    }\n",
       "</style>\n",
       "<table border=\"1\" class=\"dataframe\">\n",
       "  <thead>\n",
       "    <tr style=\"text-align: right;\">\n",
       "      <th></th>\n",
       "      <th>hotel_Name</th>\n",
       "      <th>distant</th>\n",
       "      <th>Price</th>\n",
       "      <th>reviews</th>\n",
       "      <th>Rate_num</th>\n",
       "    </tr>\n",
       "  </thead>\n",
       "  <tbody>\n",
       "    <tr>\n",
       "      <th>0</th>\n",
       "      <td>Le Meridien Makkah</td>\n",
       "      <td>0.4</td>\n",
       "      <td>468</td>\n",
       "      <td>5059.0</td>\n",
       "      <td>7.7</td>\n",
       "    </tr>\n",
       "    <tr>\n",
       "      <th>1</th>\n",
       "      <td>Violet Al Shisha Hotel</td>\n",
       "      <td>2.8</td>\n",
       "      <td>290</td>\n",
       "      <td>5844.0</td>\n",
       "      <td>8.3</td>\n",
       "    </tr>\n",
       "    <tr>\n",
       "      <th>2</th>\n",
       "      <td>Makkah Towers</td>\n",
       "      <td>0.3</td>\n",
       "      <td>342</td>\n",
       "      <td>6425.0</td>\n",
       "      <td>8.0</td>\n",
       "    </tr>\n",
       "    <tr>\n",
       "      <th>3</th>\n",
       "      <td>Makkah Clock Royal Tower, A Fairmont Hotel</td>\n",
       "      <td>0.3</td>\n",
       "      <td>441</td>\n",
       "      <td>20064.0</td>\n",
       "      <td>8.2</td>\n",
       "    </tr>\n",
       "    <tr>\n",
       "      <th>4</th>\n",
       "      <td>Jabal Omar Hyatt Regency Makkah</td>\n",
       "      <td>0.5</td>\n",
       "      <td>400</td>\n",
       "      <td>20014.0</td>\n",
       "      <td>8.4</td>\n",
       "    </tr>\n",
       "  </tbody>\n",
       "</table>\n",
       "</div>"
      ],
      "text/plain": [
       "                                   hotel_Name  distant  Price  reviews  \\\n",
       "0                          Le Meridien Makkah      0.4    468   5059.0   \n",
       "1                      Violet Al Shisha Hotel      2.8    290   5844.0   \n",
       "2                               Makkah Towers      0.3    342   6425.0   \n",
       "3  Makkah Clock Royal Tower, A Fairmont Hotel      0.3    441  20064.0   \n",
       "4             Jabal Omar Hyatt Regency Makkah      0.5    400  20014.0   \n",
       "\n",
       "   Rate_num  \n",
       "0       7.7  \n",
       "1       8.3  \n",
       "2       8.0  \n",
       "3       8.2  \n",
       "4       8.4  "
      ]
     },
     "execution_count": 222,
     "metadata": {},
     "output_type": "execute_result"
    }
   ],
   "source": [
    "df_Booking.head()"
   ]
  },
  {
   "cell_type": "code",
   "execution_count": 223,
   "id": "26ab1a84",
   "metadata": {},
   "outputs": [],
   "source": [
    "fillna_dict={}\n",
    "def impute_fit(df_fillna):\n",
    "    fillna_dict.clear()\n",
    "    for col in df_fillna.select_dtypes(exclude=np.number).columns:\n",
    "        fillna_dict[col]=df_fillna[col].mode(dropna=True).values[0]\n",
    "    for col in df_fillna.select_dtypes(include=np.number).columns:\n",
    "        fillna_dict[col]=df_fillna[col].mean()\n",
    "    \n",
    "def impute_transform(df_fillna):\n",
    "    for col in df_fillna.columns:\n",
    "        df_fillna[col].fillna(fillna_dict[col],inplace=True)\n",
    "    return df_fillna"
   ]
  },
  {
   "cell_type": "markdown",
   "id": "1060fe63",
   "metadata": {},
   "source": [
    "### ex1 fill na (mean):"
   ]
  },
  {
   "cell_type": "code",
   "execution_count": 224,
   "id": "dd8aace1",
   "metadata": {},
   "outputs": [
    {
     "data": {
      "text/plain": [
       "0.11480466465839922"
      ]
     },
     "execution_count": 224,
     "metadata": {},
     "output_type": "execute_result"
    }
   ],
   "source": [
    "X_trainM=X_train\n",
    "impute_fit(X_trainM)\n",
    "X_trainM = impute_transform(X_trainM)\n",
    "\n",
    "\n",
    "lm=LinearRegression()\n",
    "lm.fit(X_trainM,y_train)\n",
    "lm.score(X_trainM,y_train)"
   ]
  },
  {
   "cell_type": "code",
   "execution_count": 225,
   "id": "33f3c900",
   "metadata": {},
   "outputs": [
    {
     "data": {
      "text/plain": [
       "0.021306965360994967"
      ]
     },
     "execution_count": 225,
     "metadata": {},
     "output_type": "execute_result"
    }
   ],
   "source": [
    "x_valM=X_val\n",
    "\n",
    "x_valM = impute_transform(x_valM)\n",
    "\n",
    "lm.score(x_valM,y_val)"
   ]
  },
  {
   "cell_type": "markdown",
   "id": "f8ce25c4",
   "metadata": {},
   "source": [
    "### ex2 binomial:"
   ]
  },
  {
   "cell_type": "code",
   "execution_count": 249,
   "id": "ad3f1c51",
   "metadata": {},
   "outputs": [
    {
     "data": {
      "text/plain": [
       "0.12303785543256962"
      ]
     },
     "execution_count": 249,
     "metadata": {},
     "output_type": "execute_result"
    }
   ],
   "source": [
    "\n",
    "\n",
    "X2T=X_train.copy()\n",
    "X2V=X_val.copy()\n",
    "\n",
    "\n",
    "\n",
    "X2T['r2'] = X2T['Rate_num'] ** 2 \n",
    "\n",
    "X2V['r2'] = X2V['Rate_num'] ** 2 \n",
    "\n",
    "\n",
    "\n",
    "\n",
    "impute_fit(X2T)\n",
    "X2T= impute_transform(X2T)\n",
    "\n",
    "\n",
    "\n",
    "\n",
    "lm.fit(X2T,y_train)\n",
    "lm.score(X2T,y_train)\n",
    "\n",
    "\n",
    "\n",
    "\n"
   ]
  },
  {
   "cell_type": "code",
   "execution_count": 250,
   "id": "3e0058c5",
   "metadata": {},
   "outputs": [
    {
     "data": {
      "text/plain": [
       "0.025497873308922503"
      ]
     },
     "execution_count": 250,
     "metadata": {},
     "output_type": "execute_result"
    }
   ],
   "source": [
    "X2V =impute_transform(X2V)\n",
    "\n",
    "lm.score(X2V,y_val)"
   ]
  },
  {
   "cell_type": "markdown",
   "id": "3a99e2e4",
   "metadata": {},
   "source": [
    "### Scale your features"
   ]
  },
  {
   "cell_type": "code",
   "execution_count": 228,
   "id": "8749277e",
   "metadata": {},
   "outputs": [
    {
     "data": {
      "text/plain": [
       "StandardScaler()"
      ]
     },
     "execution_count": 228,
     "metadata": {},
     "output_type": "execute_result"
    }
   ],
   "source": [
    "# define standard scaler\n",
    "scaler = StandardScaler()\n",
    "\n",
    "X_trainS=X_train\n",
    "\n",
    "scaler.fit(X_trainS.values)"
   ]
  },
  {
   "cell_type": "code",
   "execution_count": 229,
   "id": "e71af0ac",
   "metadata": {},
   "outputs": [],
   "source": [
    "X_valS=X_val\n",
    "\n",
    "\n",
    "X_tr = scaler.transform(X_trainS.values)\n",
    "X_va = scaler.transform(X_valS.values)"
   ]
  },
  {
   "cell_type": "code",
   "execution_count": 230,
   "id": "84beba09",
   "metadata": {},
   "outputs": [
    {
     "data": {
      "text/plain": [
       "(numpy.ndarray, numpy.ndarray)"
      ]
     },
     "execution_count": 230,
     "metadata": {},
     "output_type": "execute_result"
    }
   ],
   "source": [
    "type(X_va), type(X_tr)"
   ]
  },
  {
   "cell_type": "code",
   "execution_count": 231,
   "id": "532c140a",
   "metadata": {},
   "outputs": [
    {
     "data": {
      "text/plain": [
       "(array([ 3.,  1.,  1., 45., 15.,  2.,  6.,  6.,  2.,  3.]),\n",
       " array([-2.47415794, -1.93809038, -1.40202283, -0.86595528, -0.32988772,\n",
       "         0.20617983,  0.74224738,  1.27831493,  1.81438249,  2.35045004,\n",
       "         2.88651759]),\n",
       " <BarContainer object of 10 artists>)"
      ]
     },
     "execution_count": 231,
     "metadata": {},
     "output_type": "execute_result"
    },
    {
     "data": {
      "image/png": "[encoded data removed]",
      "text/plain": [
       "<Figure size 432x288 with 1 Axes>"
      ]
     },
     "metadata": {
      "image/png": {
       "height": 251,
       "width": 370
      },
      "needs_background": "light"
     },
     "output_type": "display_data"
    }
   ],
   "source": [
    "plt.hist(X_tr[:,2])"
   ]
  },
  {
   "cell_type": "markdown",
   "id": "207b9d7d",
   "metadata": {},
   "source": [
    "### exp3 Fit a LASSO model on the standardized data:"
   ]
  },
  {
   "cell_type": "code",
   "execution_count": 232,
   "id": "e4c7d025",
   "metadata": {},
   "outputs": [
    {
     "data": {
      "text/plain": [
       "Lasso(alpha=10)"
      ]
     },
     "execution_count": 232,
     "metadata": {},
     "output_type": "execute_result"
    }
   ],
   "source": [
    "lasso_model = Lasso(alpha = 10)\n",
    "lasso_model.fit(X_tr,y_train)"
   ]
  },
  {
   "cell_type": "code",
   "execution_count": 233,
   "id": "ca517de4",
   "metadata": {},
   "outputs": [
    {
     "data": {
      "text/plain": [
       "[('distant', -32.592233037526526),\n",
       " ('reviews', 24.359509214184314),\n",
       " ('Rate_num', 6.073427148208835)]"
      ]
     },
     "execution_count": 233,
     "metadata": {},
     "output_type": "execute_result"
    }
   ],
   "source": [
    "list(zip(X_trainS.columns, lasso_model.coef_))"
   ]
  },
  {
   "cell_type": "code",
   "execution_count": 234,
   "id": "3dbd903d",
   "metadata": {},
   "outputs": [
    {
     "data": {
      "text/plain": [
       "0.10649434521700452"
      ]
     },
     "execution_count": 234,
     "metadata": {},
     "output_type": "execute_result"
    }
   ],
   "source": [
    "lasso_model.score(X_tr,y_train)"
   ]
  },
  {
   "cell_type": "code",
   "execution_count": 235,
   "id": "c54979a0",
   "metadata": {},
   "outputs": [
    {
     "data": {
      "text/plain": [
       "0.020221904067340812"
      ]
     },
     "execution_count": 235,
     "metadata": {},
     "output_type": "execute_result"
    }
   ],
   "source": [
    "lasso_model.score(X_va,y_val)"
   ]
  },
  {
   "cell_type": "markdown",
   "id": "03f791e4",
   "metadata": {},
   "source": [
    "### exp4 Fit a Ridge model on the standardized data:"
   ]
  },
  {
   "cell_type": "code",
   "execution_count": 236,
   "id": "233c7d3f",
   "metadata": {},
   "outputs": [
    {
     "data": {
      "text/plain": [
       "Ridge(alpha=9)"
      ]
     },
     "execution_count": 236,
     "metadata": {},
     "output_type": "execute_result"
    }
   ],
   "source": [
    "lr_model_ridge = Ridge(alpha = 9)\n",
    "lr_model_ridge.fit(X_tr, y_train)"
   ]
  },
  {
   "cell_type": "code",
   "execution_count": 237,
   "id": "688af63f",
   "metadata": {},
   "outputs": [
    {
     "data": {
      "text/plain": [
       "[('distant', -37.12983805675719),\n",
       " ('reviews', 30.039530851280347),\n",
       " ('Rate_num', 13.807108226388937)]"
      ]
     },
     "execution_count": 237,
     "metadata": {},
     "output_type": "execute_result"
    }
   ],
   "source": [
    "list(zip(X_trainS.columns, lr_model_ridge.coef_))"
   ]
  },
  {
   "cell_type": "code",
   "execution_count": 238,
   "id": "c9d6649b",
   "metadata": {},
   "outputs": [
    {
     "data": {
      "text/plain": [
       "0.11400748765228308"
      ]
     },
     "execution_count": 238,
     "metadata": {},
     "output_type": "execute_result"
    }
   ],
   "source": [
    "lr_model_ridge.score(X_tr, y_train)"
   ]
  },
  {
   "cell_type": "code",
   "execution_count": 239,
   "id": "808df959",
   "metadata": {},
   "outputs": [
    {
     "data": {
      "text/plain": [
       "0.02199536445127359"
      ]
     },
     "execution_count": 239,
     "metadata": {},
     "output_type": "execute_result"
    }
   ],
   "source": [
    "lr_model_ridge.score(X_va, y_val)"
   ]
  },
  {
   "cell_type": "code",
   "execution_count": 240,
   "id": "d1249648",
   "metadata": {},
   "outputs": [],
   "source": [
    "lasso_params = {'alpha':[0.02, 0.024, 0.025, 0.026, 0.03]}\n",
    "ridge_params = {'alpha':[200, 230, 250,265, 270, 275, 290, 300, 500]}"
   ]
  },
  {
   "cell_type": "code",
   "execution_count": 241,
   "id": "3c5ad3c9",
   "metadata": {},
   "outputs": [],
   "source": [
    "lasso_grid = GridSearchCV(Lasso(), param_grid=lasso_params).fit(X_tr, y_train)"
   ]
  },
  {
   "cell_type": "code",
   "execution_count": 242,
   "id": "63f6de17",
   "metadata": {},
   "outputs": [
    {
     "data": {
      "text/plain": [
       "Lasso(alpha=0.02)"
      ]
     },
     "execution_count": 242,
     "metadata": {},
     "output_type": "execute_result"
    }
   ],
   "source": [
    "lasso_grid.best_estimator_"
   ]
  },
  {
   "cell_type": "code",
   "execution_count": 243,
   "id": "337c1beb",
   "metadata": {},
   "outputs": [
    {
     "data": {
      "text/plain": [
       "-0.2826074507486746"
      ]
     },
     "execution_count": 243,
     "metadata": {},
     "output_type": "execute_result"
    }
   ],
   "source": [
    "lasso_grid.best_score_"
   ]
  },
  {
   "cell_type": "code",
   "execution_count": 244,
   "id": "571a0ae0",
   "metadata": {},
   "outputs": [],
   "source": [
    "ridge_grid = GridSearchCV(Ridge(), param_grid=ridge_params).fit(X_tr, y_train)"
   ]
  },
  {
   "cell_type": "code",
   "execution_count": 245,
   "id": "94d5d654",
   "metadata": {},
   "outputs": [
    {
     "data": {
      "text/plain": [
       "Ridge(alpha=200)"
      ]
     },
     "execution_count": 245,
     "metadata": {},
     "output_type": "execute_result"
    }
   ],
   "source": [
    "ridge_grid.best_estimator_"
   ]
  },
  {
   "cell_type": "code",
   "execution_count": 246,
   "id": "301bee33",
   "metadata": {},
   "outputs": [
    {
     "data": {
      "text/plain": [
       "-0.4576832975079239"
      ]
     },
     "execution_count": 246,
     "metadata": {},
     "output_type": "execute_result"
    }
   ],
   "source": [
    "ridge_grid.best_score_"
   ]
  },
  {
   "cell_type": "markdown",
   "id": "77314088",
   "metadata": {},
   "source": [
    "### ex5 Basic feature engineering adding interaction terms"
   ]
  },
  {
   "cell_type": "code",
   "execution_count": 254,
   "id": "d79c7110",
   "metadata": {},
   "outputs": [
    {
     "data": {
      "text/plain": [
       "0.11480466465840189"
      ]
     },
     "execution_count": 254,
     "metadata": {},
     "output_type": "execute_result"
    }
   ],
   "source": [
    "\n",
    "X3T=X_train.copy()\n",
    "X3V=X_val.copy()\n",
    "\n",
    "\n",
    "\n",
    "\n",
    "XT3['Re_d'] = XT3['reviews']+ XT3['Rate_num']\n",
    "X3V['Re_d'] = X3V['reviews']+ X3V['Rate_num']\n",
    "\n",
    "\n",
    "\n",
    "impute_fit(XT3)\n",
    "XT3= impute_transform(XT3)\n",
    "\n",
    "\n",
    "\n",
    "\n",
    "lm.fit(XT3,y_train)\n",
    "lm.score(XT3,y_train)\n",
    "\n"
   ]
  },
  {
   "cell_type": "code",
   "execution_count": 256,
   "id": "a53fef8e",
   "metadata": {},
   "outputs": [
    {
     "data": {
      "text/plain": [
       "0.021306965360896712"
      ]
     },
     "execution_count": 256,
     "metadata": {},
     "output_type": "execute_result"
    }
   ],
   "source": [
    "X3V =impute_transform(X3V)\n",
    "\n",
    "lm.score(X3V,y_val)"
   ]
  }
 ],
 "metadata": {
  "kernelspec": {
   "display_name": "Python 3",
   "language": "python",
   "name": "python3"
  },
  "language_info": {
   "codemirror_mode": {
    "name": "ipython",
    "version": 3
   },
   "file_extension": ".py",
   "mimetype": "text/x-python",
   "name": "python",
   "nbconvert_exporter": "python",
   "pygments_lexer": "ipython3",
   "version": "3.8.8"
  }
 },
 "nbformat": 4,
 "nbformat_minor": 5
}
