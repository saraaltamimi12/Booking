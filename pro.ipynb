{
 "cells": [
  {
   "cell_type": "markdown",
   "id": "b99f4e1f",
   "metadata": {},
   "source": [
    "<img src=\"booking.png\" alt=\"Girl in cycyling\" width=\"300\" height=\"600\">"
   ]
  },
  {
   "cell_type": "markdown",
   "id": "b0589ec1",
   "metadata": {},
   "source": [
    "Appenddix\n",
    "-click on the link:\n",
    ">1. <a href=#overview> OVERVIEW</a>\n",
    ">2. <a href=#mot> MOTIVATIONS</a>\n",
    ">3. <a href=#obj> THE OBJECTIVE</a>\n",
    ">4. <a href=#desc> DESCRIBE DATA</a>\n",
    ">5. <a href=#tools> TOOLS</a>"
   ]
  },
  {
   "cell_type": "markdown",
   "id": "d874a492",
   "metadata": {},
   "source": [
    "<a name=#overview style=\"font-size:150%;\"> OVERVIEW:</a>\n",
    "\n",
    "Reservation is the arrangement you make when you book something like a hotel room, a table in a restaurant, a theater seat, or a place on public transportation.\n",
    "Booking.com\n",
    "Specialized in booking accommodation. Booking.com is available in 43 languages and offers over 28 million reported accommodation listings, including over 6.2 million homes, apartments and other unique places to stay. Wherever you want and whatever you want to do, Booking.com makes it easy and supports you with 24/7 customer support."
   ]
  },
  {
   "cell_type": "markdown",
   "id": "20d56703",
   "metadata": {},
   "source": [
    "<a name=#mot style=\" font-size:150%;\"> MOTIVATIONS:</a>\n",
    "\n",
    "To create a model to predict the future outcome of a new hotel booking price based on features (word rate, rate, dimension)"
   ]
  },
  {
   "cell_type": "markdown",
   "id": "ed4fe56a",
   "metadata": {},
   "source": [
    "<a name=##obj style=\" font-size:150%;\"> THE OBJECTIVE:</a>\n"
   ]
  },
  {
   "cell_type": "markdown",
   "id": "9972bbe1",
   "metadata": {},
   "source": [
    "<a name=#desc style=\"font-size:150%;\"> DESCRIBE DATA:</a>\n",
    "\n",
    "Collecting data from the internet \"https://www.booking.com/\"\n",
    "\n",
    "I have 4 column and 515 rows.\n",
    "\n",
    "hotel_Name : the name of the hotel.\n",
    "price : Booking price\n",
    "rate : the rate of the hotel  \n",
    "distant: distant of the hotel to alhram\n",
    "Rate_Word: the rate of the hotel as word \n",
    "\n",
    "price :I would expect as a target\n",
    "Features :Rate_Word ,rate and distant"
   ]
  },
  {
   "cell_type": "markdown",
   "id": "3dce6ca7",
   "metadata": {},
   "source": [
    "<a name=#tools; style=\"font-size:150%;\"> TOOLS:</a>\n",
    "\n",
    "1.Pandas\n",
    "    \n",
    "2.Numpy\n",
    "    \n",
    "3.Matplotlib\n",
    "    \n",
    "4.Seaborn\n",
    "    \n",
    "5.Sys\n",
    "\n",
    "6.BeautifulSoup\n",
    "\n",
    "7.requests"
   ]
  },
  {
   "cell_type": "code",
   "execution_count": null,
   "id": "c07002e0",
   "metadata": {},
   "outputs": [],
   "source": []
  }
 ],
 "metadata": {
  "kernelspec": {
   "display_name": "Python 3",
   "language": "python",
   "name": "python3"
  },
  "language_info": {
   "codemirror_mode": {
    "name": "ipython",
    "version": 3
   },
   "file_extension": ".py",
   "mimetype": "text/x-python",
   "name": "python",
   "nbconvert_exporter": "python",
   "pygments_lexer": "ipython3",
   "version": "3.8.8"
  }
 },
 "nbformat": 4,
 "nbformat_minor": 5
}
